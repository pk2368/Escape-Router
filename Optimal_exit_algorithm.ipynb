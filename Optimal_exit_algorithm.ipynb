{
 "cells": [
  {
   "cell_type": "code",
   "execution_count": 1,
   "id": "0d963af6",
   "metadata": {},
   "outputs": [
    {
     "name": "stdout",
     "output_type": "stream",
     "text": [
      "Jupyter environment detected. Enabling Open3D WebVisualizer.\n",
      "[Open3D INFO] WebRTC GUI backend enabled.\n",
      "[Open3D INFO] WebRTCWindowSystem: HTTP handshake server disabled.\n"
     ]
    }
   ],
   "source": [
    "from plyfile import PlyData, PlyElement\n",
    "import open3d as o3d\n",
    "import random\n",
    "import numpy as np\n",
    "import pyransac3d as pyrsc\n",
    "import csv\n",
    "from sklearn.neighbors import KDTree\n",
    "from sklearn.neighbors import NearestNeighbors\n",
    "import plane_detection\n",
    "import time"
   ]
  },
  {
   "cell_type": "code",
   "execution_count": 2,
   "id": "dffb6881",
   "metadata": {},
   "outputs": [],
   "source": [
    "pcd = o3d.io.read_point_cloud(\"Basement_pointcloud.ply\")\n",
    "# pcd_tree = o3d.geometry.KDTreeFlann(pcd1)\n",
    "#pcd = np.asarray(pcd.points)\n",
    "#pcd11 = o3d.geometry.PointCloud()\n",
    "# pcd11.points = o3d.utility.Vector3dVector(AA)"
   ]
  },
  {
   "cell_type": "markdown",
   "id": "8495ce44",
   "metadata": {},
   "source": [
    "# Random Points"
   ]
  },
  {
   "cell_type": "code",
   "execution_count": 3,
   "id": "811aab67",
   "metadata": {},
   "outputs": [],
   "source": [
    "num_points = 100\n",
    "pointcloud = []\n",
    "for i in range(num_points):\n",
    "    x = random.uniform(-0.5, 0.5)\n",
    "    y = random.uniform(-0.5, 0.5)\n",
    "    z = random.uniform(-0.5, 0.5)\n",
    "    pointcloud.append((x, y, z))\n",
    "    \n",
    "pcd1 = np.array(pointcloud)\n",
    "\n",
    "w = o3d.geometry.PointCloud()\n",
    "w.points = o3d.utility.Vector3dVector(pcd1)"
   ]
  },
  {
   "cell_type": "markdown",
   "id": "b0cb3068",
   "metadata": {},
   "source": [
    "# Centroid"
   ]
  },
  {
   "cell_type": "code",
   "execution_count": 4,
   "id": "73173355",
   "metadata": {},
   "outputs": [],
   "source": [
    "emp_pcds = np.asarray(pcd.points)\n",
    "emp_pcdsR = np.asarray(w.points)\n",
    "x = [p[0] for p in emp_pcds]\n",
    "y = [p[1] for p in emp_pcds]\n",
    "z = [p[2] for p in emp_pcds]\n",
    "x = sum(x)\n",
    "y = sum(y)\n",
    "z = sum(z)\n",
    "\n",
    "x1 = [p[0] for p in emp_pcdsR]\n",
    "y1 = [p[1] for p in emp_pcdsR]\n",
    "z1 = [p[2] for p in emp_pcdsR]\n",
    "x1 = sum(x1)\n",
    "y1 = sum(y1)\n",
    "z1 = sum(z1)\n",
    "\n",
    "centroid = np.array([x / len(emp_pcds), y / len(emp_pcds), z / len(emp_pcds)])\n",
    "centroidR = np.array([x1 / len(emp_pcdsR), y1 / len(emp_pcdsR), z1 / len(emp_pcdsR)])\n",
    "\n",
    "# centroidR"
   ]
  },
  {
   "cell_type": "markdown",
   "id": "78637bf9",
   "metadata": {},
   "source": [
    "# Demeaning"
   ]
  },
  {
   "cell_type": "code",
   "execution_count": 5,
   "id": "2f2eef34",
   "metadata": {},
   "outputs": [],
   "source": [
    "A = emp_pcds\n",
    "B = emp_pcdsR\n",
    "AA = A - centroid\n",
    "BB = (B - centroidR)\n"
   ]
  },
  {
   "cell_type": "code",
   "execution_count": 6,
   "id": "d986a1d5",
   "metadata": {},
   "outputs": [],
   "source": [
    "Exit1 = [-0.91273007, 4.29787686, -0.50747977]\n",
    "Exit2 = [-1.91273007, -3.29787686, -0.50747977]"
   ]
  },
  {
   "cell_type": "code",
   "execution_count": 7,
   "id": "3b19be2b",
   "metadata": {},
   "outputs": [],
   "source": [
    "q = o3d.geometry.PointCloud()\n",
    "q.points = o3d.utility.Vector3dVector(AA)\n",
    "q.colors=o3d.utility.Vector3dVector(np.asarray(pcd.colors))\n",
    "f = o3d.geometry.PointCloud()\n",
    "f.points = o3d.utility.Vector3dVector(BB)\n",
    "f.paint_uniform_color([1, 0.706, 0])\n",
    "o3d.visualization.draw_geometries([q,f],\n",
    "                                      zoom=0.5159,\n",
    "                                      front=[0.9288, -0.2951, 1.2242],\n",
    "                                      lookat=[0.5, 0.5, 0.5],\n",
    "                                       up=[-3,1,3])"
   ]
  },
  {
   "cell_type": "code",
   "execution_count": 8,
   "id": "aea6229a",
   "metadata": {},
   "outputs": [],
   "source": [
    "point = [ 0.33621788, -0.09720026, -0.44222201],[1.51273007, -8.29787686, -0.50747977]\n",
    "lines = [1,0,0],[1,0,0]\n",
    "colors = [[0, 0, 1] for i in range(len(lines))]\n",
    "line_set = o3d.geometry.LineSet()\n",
    "line_set.points = o3d.utility.Vector3dVector(point)\n",
    "line_set.points = o3d.utility.Vector3dVector(lines)\n",
    "line_set.colors = o3d.utility.Vector3dVector(colors)\n"
   ]
  },
  {
   "cell_type": "code",
   "execution_count": null,
   "id": "934d1496",
   "metadata": {},
   "outputs": [],
   "source": [
    "vis = o3d.visualization.Visualizer()\n",
    "vis.create_window()\n",
    "vis.add_geometry(q)\n",
    "vis.add_geometry(f)\n",
    "# vis.add_geometry(line_set)\n",
    "for i in B:\n",
    "    f.points = o3d.utility.Vector3dVector(BB+i)\n",
    "    vis.update_geometry(f)\n",
    "    vis.poll_events()\n",
    "    vis.update_renderer()\n",
    "    time.sleep(1)\n",
    "    \n",
    "vis.destroy_window()"
   ]
  },
  {
   "cell_type": "code",
   "execution_count": null,
   "id": "b2c7ac8f",
   "metadata": {},
   "outputs": [],
   "source": [
    "if (np.linalg.norm(f.points[-1]-Exit1) < np.linalg.norm(f.points[-1]-Exit2)) :\n",
    "    print('hello')\n",
    "    points = [[ 0, 0, 0],[-1.91273007, -3.29787686, -0.50747977]]\n",
    "    lines = [[0, 1], [0, 2]]*100\n",
    "    colors = [[1, 0, 0] for i in range(len(lines))]\n",
    "    vis1 = o3d.visualization.Visualizer()\n",
    "    vis1.create_window()\n",
    "    vis1.add_geometry(q)\n",
    "    vis1.add_geometry(f)\n",
    "    vis1.add_geometry(line_set)\n",
    "    line_set = o3d.geometry.LineSet()\n",
    "    line_set.points = o3d.utility.Vector3dVector(points)\n",
    "    line_set.lines = o3d.utility.Vector2iVector(lines)\n",
    "    line_set.colors = o3d.utility.Vector3dVector(colors)   \n",
    "    vis1.update_geometry(line_set)\n",
    "    vis1.poll_events()\n",
    "    vis1.update_renderer()\n",
    "    time.sleep(4)\n",
    "    vis1.destroy_window()\n",
    "        \n",
    "else:\n",
    "    print('hello1')\n",
    "    points = [[ 0,0,0],[-0.91273007, 4.29787686, -0.50747977]]\n",
    "    lines = [[0, 1], [0, 2]]*100\n",
    "    colors = [[1, 0, 0] for i in range(len(lines))]\n",
    "    vis1 = o3d.visualization.Visualizer()\n",
    "    vis1.create_window()\n",
    "    vis1.add_geometry(q)\n",
    "    vis1.add_geometry(f)\n",
    "    vis1.add_geometry(line_set)\n",
    "    line_set = o3d.geometry.LineSet()\n",
    "    line_set.points = o3d.utility.Vector3dVector(points)\n",
    "    line_set.lines = o3d.utility.Vector2iVector(lines)\n",
    "    line_set.colors = o3d.utility.Vector3dVector(colors)  \n",
    "    vis1.update_geometry(line_set)\n",
    "    vis1.poll_events()\n",
    "    vis1.update_renderer()\n",
    "    time.sleep(2)\n",
    "    vis1.poll_events()\n",
    "    vis1.update_renderer()\n",
    "    time.sleep(10)\n",
    "    vis1.destroy_window()\n",
    "# vis.run()\n",
    "# vis.destroy_window()"
   ]
  },
  {
   "cell_type": "code",
   "execution_count": 15,
   "id": "9e758a8e",
   "metadata": {},
   "outputs": [
    {
     "name": "stdout",
     "output_type": "stream",
     "text": [
      "[Open3D WARNING] Write geometry::PointCloud failed: unknown file extension  for file inliers.\n"
     ]
    }
   ],
   "source": [
    "lcd = o3d.geometry.PointCloud()\n",
    "# for i in range()\n",
    "lcd.points = o3d.utility.Vector3dVector(plane[4][1])        \n",
    "o3d.io.write_point_cloud(\"inliers\", lcd)\n",
    "lcd.paint_uniform_color([0.5, 0.5, 0.5])\n",
    "# # lcd.colors[107019] = [1, 0, 0]\n",
    "# # pcd_tree = o3d.geometry.KDTreeFlann(lcd)\n",
    "# # for i in range(10):\n",
    "# [k, idx, _] = pcd_tree.search_knn_vector_3d(lcd.points[ind[15000][1]], 100)\n",
    "# np.asarray(lcd.colors)[idx[1:], :] = [1, 0, 0]\n",
    "o3d.visualization.draw_geometries([lcd],\n",
    "                                  zoom=1,\n",
    "                                  front=[0.4257, -0.2125, -0.8795],\n",
    "                                  lookat=[2.6172, 2.0475, 1.532],\n",
    "                                  up=[-0.0694, -0.9768, 0.2024])"
   ]
  },
  {
   "cell_type": "code",
   "execution_count": 22,
   "id": "21c137fd",
   "metadata": {},
   "outputs": [],
   "source": [
    "pcd_tree = o3d.geometry.KDTreeFlann(lcd)\n",
    "[k, idx, _] = pcd_tree.search_knn_vector_3d(lcd.points[5000], 100)\n",
    "np.asarray(lcd.colors)[idx[1:], :] = [1, 0,0 ]\n",
    "o3d.visualization.draw_geometries([lcd],\n",
    "                                  zoom=1,\n",
    "                                  front=[0.4257, -0.2125, -0.8795],\n",
    "                                  lookat=[2.6172, 2.0475, 1.532],\n",
    "                                  up=[-0.0694, -0.9768, 0.2024])"
   ]
  },
  {
   "cell_type": "code",
   "execution_count": null,
   "id": "bdaaf79e",
   "metadata": {},
   "outputs": [],
   "source": [
    "path = 'output.csv'\n",
    "with open(path, 'r') as f:\n",
    "    reader = csv.reader(f, delimiter=',')\n",
    "    headers = next(reader)\n",
    "    data = np.array(list(reader)).astype(float)"
   ]
  },
  {
   "cell_type": "code",
   "execution_count": null,
   "id": "92557376",
   "metadata": {},
   "outputs": [],
   "source": [
    "kmc = plane[4][1]\n",
    "\n",
    "with open('outputnewmain.csv', 'w', newline='') as f_output:\n",
    "    csv_output = csv.writer(f_output)\n",
    "    csv_output.writerow(['x'])\n",
    "    csv_output.writerows(kmc)"
   ]
  },
  {
   "cell_type": "code",
   "execution_count": null,
   "id": "cb19621d",
   "metadata": {},
   "outputs": [],
   "source": [
    "#Function Ransac\n",
    "def Normalization(points):\n",
    "    A = points[1] - points[0]\n",
    "    B = points[2] - points[0]\n",
    "    C = np.cross(A,B)\n",
    "    a,b,c = C / np.linalg.norm(C)\n",
    "    d=-np.sum(C*points[1])\n",
    "    distance = (a * xyz_pcds[:,0] + b * xyz_pcds[:,1] + c * xyz_pcds[:,2] + d) / np.sqrt(a ** 2 + b ** 2 + c ** 2)\n",
    "    return distance\n",
    "\n",
    "def ransac(xyz_pcds,iterations):\n",
    "    f_inliers=[]\n",
    "    n_points=len(xyz_pcds)\n",
    "    i=1\n",
    "    while i<iterations:\n",
    "        samples_points = random.sample(range(n_points), 3)\n",
    "        pts = xyz_pcds[samples_points]\n",
    "        distance = Normalization(pts)\n",
    "        idx_inliers = np.where(np.abs(distance) <= 0.02)[0]\n",
    "        if len(idx_inliers) > len(f_inliers):\n",
    "            f_inliers = idx_inliers\n",
    "    \n",
    "        i+=1\n",
    "    return f_inliers\n",
    "\n",
    "xyz_pcds = np.asarray(pcd.points)\n",
    "inliers = ransac(xyz_pcds,1500)\n",
    "inliers_new=xyz_pcds[inliers]"
   ]
  },
  {
   "cell_type": "code",
   "execution_count": 10,
   "id": "65bcaae1",
   "metadata": {},
   "outputs": [
    {
     "data": {
      "text/plain": [
       "92"
      ]
     },
     "execution_count": 10,
     "metadata": {},
     "output_type": "execute_result"
    }
   ],
   "source": [
    "xyz_pcds1 = np.asarray(pcd.points)\n",
    "plane =  plane_detection.DetectMultiPlanes(xyz_pcds1)\n",
    "len(plane)"
   ]
  },
  {
   "cell_type": "code",
   "execution_count": null,
   "id": "6f22f8cb",
   "metadata": {},
   "outputs": [],
   "source": [
    "tree = KDTree(plane[5][1], leaf_size=2) \n",
    "dist, ind = tree.query(plane[6][1], k=3)\n",
    "Best_fit = o3d.geometry.PointCloud()\n",
    "Best_fit.points = o3d.utility.Vector3dVector(plane[6][1])\n",
    "pcd_tree = o3d.geometry.KDTreeFlann(Best_fit)\n",
    "[k, idx, _] = pcd_tree.search_knn_vector_3d(Best_fit.points[100], 1000)\n",
    "ind"
   ]
  },
  {
   "cell_type": "code",
   "execution_count": null,
   "id": "69de92ec",
   "metadata": {},
   "outputs": [],
   "source": [
    "nbrs = NearestNeighbors(n_neighbors=1, algorithm='ball_tree').fit(plane[5][1])\n",
    "distances, indices = nbrs.kneighbors(plane[5][1])"
   ]
  },
  {
   "cell_type": "code",
   "execution_count": null,
   "id": "f6d5917a",
   "metadata": {},
   "outputs": [],
   "source": [
    "emp_pcdsdoor = np.asarray(pcd2.points)\n",
    "x3 = [p[0] for p in emp_pcdsdoor]\n",
    "y3 = [p[1] for p in emp_pcdsdoor]\n",
    "z3 = [p[2] for p in emp_pcdsdoor]\n",
    "x3 = sum(x3)\n",
    "y3 = sum(y3)\n",
    "z3 = sum(z3)\n",
    "centroiddoor = np.array([x3 / len(emp_pcdsdoor), y3 / len(emp_pcdsdoor), z3 / len(emp_pcdsdoor)])"
   ]
  },
  {
   "cell_type": "code",
   "execution_count": null,
   "id": "e6635580",
   "metadata": {},
   "outputs": [],
   "source": [
    "CC = emp_pcdsdoor - centroiddoor\n",
    "c = o3d.geometry.PointCloud()\n",
    "c.points = o3d.utility.Vector3dVector(CC)\n",
    "c.colors=o3d.utility.Vector3dVector(np.asarray(pcd2.colors))\n",
    "pcd_tree1 = o3d.geometry.KDTreeFlann(c)"
   ]
  }
 ],
 "metadata": {
  "kernelspec": {
   "display_name": "Python 3 (ipykernel)",
   "language": "python",
   "name": "python3"
  },
  "language_info": {
   "codemirror_mode": {
    "name": "ipython",
    "version": 3
   },
   "file_extension": ".py",
   "mimetype": "text/x-python",
   "name": "python",
   "nbconvert_exporter": "python",
   "pygments_lexer": "ipython3",
   "version": "3.9.12"
  }
 },
 "nbformat": 4,
 "nbformat_minor": 5
}
