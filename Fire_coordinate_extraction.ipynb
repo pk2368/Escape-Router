{
  "nbformat": 4,
  "nbformat_minor": 0,
  "metadata": {
    "colab": {
      "provenance": []
    },
    "kernelspec": {
      "name": "python3",
      "display_name": "Python 3"
    },
    "language_info": {
      "name": "python"
    }
  },
  "cells": [
    {
      "cell_type": "code",
      "execution_count": 2,
      "metadata": {
        "id": "H-nYz7i3aecB"
      },
      "outputs": [],
      "source": [
        "import numpy as np\n",
        "import cv2\n",
        "import os\n",
        "import matplotlib.pyplot as plt\n",
        "from google.colab.patches import cv2_imshow"
      ]
    },
    {
      "cell_type": "code",
      "source": [
        "from google.colab import drive\n",
        "drive.mount('/content/drive')"
      ],
      "metadata": {
        "colab": {
          "base_uri": "https://localhost:8080/"
        },
        "id": "4eNiVqm0arRL",
        "outputId": "f1bb5b39-ab23-4121-8088-bbc64d43b92b"
      },
      "execution_count": 3,
      "outputs": [
        {
          "output_type": "stream",
          "name": "stdout",
          "text": [
            "Mounted at /content/drive\n"
          ]
        }
      ]
    },
    {
      "cell_type": "markdown",
      "source": [],
      "metadata": {
        "id": "oLmi6jkPAOiY"
      }
    },
    {
      "cell_type": "code",
      "source": [
        "cap = cv2.VideoCapture('/content/drive/MyDrive/Perception Project/videoplayback.mp4')\n",
        "count = 0\n",
        "while cap.isOpened():\n",
        "  success, image = cap.read()\n",
        "  if success:\n",
        "    cv2.imwrite(os.path.join('/content/drive/MyDrive/Perception Project/Images', '%d.png') % count, image)\n",
        "    count += 1\n",
        "  else:\n",
        "    break\n",
        "cv2.destroyAllWindows()\n",
        "cap.release()"
      ],
      "metadata": {
        "id": "zpBR7mTAa0OZ"
      },
      "execution_count": null,
      "outputs": []
    },
    {
      "cell_type": "code",
      "source": [
        "count"
      ],
      "metadata": {
        "colab": {
          "base_uri": "https://localhost:8080/"
        },
        "id": "IK7ofg0tR9BE",
        "outputId": "10ef5ea5-b827-4fc3-b49e-4e6ebe7528f0"
      },
      "execution_count": null,
      "outputs": [
        {
          "output_type": "execute_result",
          "data": {
            "text/plain": [
              "4051"
            ]
          },
          "metadata": {},
          "execution_count": 4
        }
      ]
    },
    {
      "cell_type": "code",
      "source": [
        "from pathlib import Path\n",
        "from zmq.constants import NULL\n",
        "import glob\n",
        "path = \"/content/drive/MyDrive/Perception Project/Images\"\n",
        "count = 0\n",
        "centre = []\n",
        "o = []\n",
        "k = []\n",
        "for image_path in path:\n",
        "  input_path = os.path.join(path, image_path)\n",
        "  image=cv2.imread(input_path)\n",
        "  try:\n",
        "        frame = cv2.resize(image, (960, 540))  \n",
        "        cv2.imwrite('frame.png',frame)\n",
        "        blur = cv2.GaussianBlur(frame, (21, 21), 0)\n",
        "        imgray = cv2.cvtColor(image, cv2.COLOR_BGR2GRAY)\n",
        "        hsv = cv2.cvtColor(blur, cv2.COLOR_BGR2HSV)\n",
        "\n",
        "        lower = [18, 50, 50]\n",
        "        upper = [35, 255, 255]\n",
        "        lower = np.array(lower, dtype=\"uint8\")\n",
        "        upper = np.array(upper, dtype=\"uint8\")\n",
        "\n",
        "        mask = cv2.inRange(hsv, lower, upper)\n",
        "        output = cv2.bitwise_and(frame, hsv, mask=mask)\n",
        "\n",
        "        #BoundingBox\n",
        "\n",
        "\n",
        "        x,y,w,h = cv2.boundingRect(mask)\n",
        "        Rect = cv2.rectangle(output,(x,y),(x+w,y+h),(36,255,12),2)\n",
        "        C = np.array([x+w//2,y+h//2])\n",
        "        C_A=np.append(C_A,C)\n",
        "        o.append(x+w)\n",
        "        k.append(y+h) \n",
        "        cv2.imwrite('hsv.png',Rect)\n",
        "        img1 = cv2.imread('frame.png')\n",
        "        img2 = cv2.imread('hsv.png')\n",
        "        img2 = cv2. cv2.resize(img2, (960, 540)) \n",
        "        dst = cv2.add(img1,img2)\n",
        "        cv2.imwrite(os.path.join('/content/drive/MyDrive/Perception Project/Final Images', '%d.png') % count, dst)\n",
        "        #cv2_imshow(dst)\n",
        "        count+=1\n",
        "  except:\n",
        "        NULL\n",
        "\n",
        "plt.figure()\n",
        "#o = [-100:]\n",
        "\n",
        "plt.plot(o[-10:],k[-10:])\n",
        "plt.show()\n",
        "cv2.destroyAllWindows()\n"
      ],
      "metadata": {
        "id": "jy4abkF9YAOl"
      },
      "execution_count": null,
      "outputs": []
    },
    {
      "cell_type": "code",
      "source": [
        "C_A.reshape(4152,1)"
      ],
      "metadata": {
        "id": "zjYaoazmEjT0",
        "colab": {
          "base_uri": "https://localhost:8080/"
        },
        "outputId": "3e6f30bd-5d89-4c9f-ad1e-70469b4c405f"
      },
      "execution_count": null,
      "outputs": [
        {
          "output_type": "execute_result",
          "data": {
            "text/plain": [
              "array([[362.],\n",
              "       [184.],\n",
              "       [361.],\n",
              "       ...,\n",
              "       [127.],\n",
              "       [951.],\n",
              "       [127.]])"
            ]
          },
          "metadata": {},
          "execution_count": 10
        }
      ]
    },
    {
      "cell_type": "code",
      "source": [
        "centrepoints = np.reshape(C_A, (-1, 2))"
      ],
      "metadata": {
        "id": "6kJYMICYHWUq"
      },
      "execution_count": null,
      "outputs": []
    },
    {
      "cell_type": "code",
      "source": [
        "centrepoints = np.reshape(C_A, (-1, 2))\n",
        "centrepoints.shape"
      ],
      "metadata": {
        "colab": {
          "base_uri": "https://localhost:8080/"
        },
        "id": "XI2W_-dXIMlV",
        "outputId": "74503a12-5310-4c64-f801-8efd99fe3f66"
      },
      "execution_count": 5,
      "outputs": [
        {
          "output_type": "execute_result",
          "data": {
            "text/plain": [
              "(2825, 2)"
            ]
          },
          "metadata": {},
          "execution_count": 5
        }
      ]
    },
    {
      "cell_type": "code",
      "source": [
        "\n",
        "from numpy import asarray\n",
        "from numpy import savetxt\n",
        "\n",
        "data = centrepoints\n"
      ],
      "metadata": {
        "id": "zoB18tG9IOji"
      },
      "execution_count": null,
      "outputs": []
    },
    {
      "cell_type": "code",
      "source": [
        "savetxt('data.csv', data, delimiter=',')"
      ],
      "metadata": {
        "id": "NYRYtdHsIlnA"
      },
      "execution_count": null,
      "outputs": []
    },
    {
      "cell_type": "code",
      "source": [],
      "metadata": {
        "id": "fmmzM6meIvsw"
      },
      "execution_count": null,
      "outputs": []
    }
  ]
}